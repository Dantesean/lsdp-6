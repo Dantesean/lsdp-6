{
 "cells": [
  {
   "cell_type": "markdown",
   "metadata": {},
   "source": [
    "This is a very simple Python3 script for a bot; it will continue to ask for messages. It starts with simple-start.xml and then ask to \"load aiml\", which means the aiml files mentioned in the file simple-start.xml are loaded. \n",
    "\n",
    "Before you can use it, you have to install (using pip/pip3) python-aiml (this is the Python3 version). Make sure the aiml files are in the same folder as this notebook and you are using the python3 kernel for this notebook."
   ]
  },
  {
   "cell_type": "code",
   "execution_count": 3,
   "metadata": {},
   "outputs": [
    {
     "name": "stdout",
     "output_type": "stream",
     "text": [
      "Loading simple-start.xml...done (0.00 seconds)\n",
      "Loading basic_chat.aiml...done (0.00 seconds)\n",
      "Loading complex_processes.aiml...done (0.00 seconds)\n",
      "Enter your message >> hello\n",
      "Well, hello!\n",
      "Enter your message >> i want to go to rotterdam\n",
      "Your destination is rotterdam.\n",
      "Enter your message >> where am i?\n",
      "You told me you are in .\n",
      "Enter your message >> i want to go from amsterdam to rotterdam\n",
      "Your destination is rotterdam, leaving from amsterdam.\n",
      "Enter your message >> where am i?\n",
      "You told me you are in amsterdam.\n",
      "Enter your message >> quit\n"
     ]
    }
   ],
   "source": [
    "import aiml\n",
    "\n",
    "# Create the kernel and learn AIML files\n",
    "kernel = aiml.Kernel()\n",
    "kernel.learn(\"simple-start.xml\")\n",
    "kernel.respond(\"load aiml\")\n",
    "\n",
    "# Press CTRL-C to break this loop\n",
    "while True:\n",
    "    message = input(\"Enter your message >> \")\n",
    "    if message == \"quit\":\n",
    "        break #useful in notebook\n",
    "        # exit() # useful in actual application\n",
    "    elif message == \"save\":\n",
    "        kernel.saveBrain(\"bot_brain.brn\")\n",
    "    else:\n",
    "        bot_response = kernel.respond(message)\n",
    "        # Do something with bot_response\n",
    "        # syntactic parse\n",
    "        # prosodic parse\n",
    "        print(bot_response)"
   ]
  },
  {
   "cell_type": "markdown",
   "metadata": {},
   "source": [
    "This is a very simple bot. You can add or change the AIML files to create a smarter chatbot which can act as a public transport information system. \n",
    "\n",
    "You are also allowed to make changes in the code above to change how the loop works, add python preprocessing of the responses, catch errors and so on. "
   ]
  }
 ],
 "metadata": {
  "kernelspec": {
   "display_name": "Python 3",
   "language": "python",
   "name": "python3"
  },
  "language_info": {
   "codemirror_mode": {
    "name": "ipython",
    "version": 3
   },
   "file_extension": ".py",
   "mimetype": "text/x-python",
   "name": "python",
   "nbconvert_exporter": "python",
   "pygments_lexer": "ipython3",
   "version": "3.7.2"
  }
 },
 "nbformat": 4,
 "nbformat_minor": 2
}
